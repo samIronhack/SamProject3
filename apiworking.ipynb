{
 "cells": [
  {
   "cell_type": "code",
   "execution_count": 16,
   "id": "0006fe82",
   "metadata": {},
   "outputs": [
    {
     "data": {
      "text/plain": [
       "True"
      ]
     },
     "execution_count": 16,
     "metadata": {},
     "output_type": "execute_result"
    }
   ],
   "source": [
    "import os\n",
    "import requests\n",
    "import json\n",
    "from dotenv import load_dotenv\n",
    "import pandas as pd\n",
    "import geopandas as gpd\n",
    "from cartoframes.viz import Map, Layer\n",
    "load_dotenv()"
   ]
  },
  {
   "cell_type": "code",
   "execution_count": 17,
   "id": "174ce3aa",
   "metadata": {},
   "outputs": [],
   "source": [
    "client_id = os.getenv(\"CLIENT_ID\")\n",
    "client_secret = os.getenv(\"CLIENT_SECRET\")"
   ]
  },
  {
   "cell_type": "code",
   "execution_count": 18,
   "id": "8831d242",
   "metadata": {},
   "outputs": [],
   "source": [
    "location=(40,3)"
   ]
  },
  {
   "cell_type": "code",
   "execution_count": 19,
   "id": "a1cd49fa",
   "metadata": {},
   "outputs": [],
   "source": [
    "def get_results_from_foursquare (query, location, limit):\n",
    "\n",
    "    url = \"https://api.foursquare.com/v3/venues/search/\"\n",
    "\n",
    "    headers = {\n",
    "        \"Accept\": \"application/json\",\n",
    "        \"Authorization\": \"fsq3KU4c2omXoLkPELnP5kFRfNTccT60H4J1OM7mcwUgw8w=\"\n",
    "    }\n",
    "\n",
    "    response = requests.get(url, headers=headers).json()\n",
    "\n",
    "    results = requests.get(url, headers).json()\n",
    "\n",
    "    return results"
   ]
  },
  {
   "cell_type": "code",
   "execution_count": 20,
   "id": "c0fe4699",
   "metadata": {},
   "outputs": [
    {
     "data": {
      "text/plain": [
       "<function __main__.get_results_from_foursquare(query, location, limit)>"
      ]
     },
     "execution_count": 20,
     "metadata": {},
     "output_type": "execute_result"
    }
   ],
   "source": [
    "get_results_from_foursquare"
   ]
  },
  {
   "cell_type": "code",
   "execution_count": 26,
   "id": "1b0d9f6d",
   "metadata": {},
   "outputs": [
    {
     "data": {
      "text/plain": [
       "[{'fsq_id': '538a4c78498e264f18c776b2',\n",
       "  'categories': [{'id': 17023,\n",
       "    'name': 'Computers and Electronics Retail',\n",
       "    'icon': {'prefix': 'https://ss3.4sqi.net/img/categories_v2/shops/default_',\n",
       "     'suffix': '.png'}}],\n",
       "  'chains': [],\n",
       "  'distance': 53,\n",
       "  'geocodes': {'main': {'latitude': 40.416833, 'longitude': -3.702214},\n",
       "   'roof': {'latitude': 40.416833, 'longitude': -3.702214}},\n",
       "  'link': '/v3/places/538a4c78498e264f18c776b2',\n",
       "  'location': {'address': 'Plaza de la Puerta del Sol, 1',\n",
       "   'admin_region': 'Comunidad de Madrid',\n",
       "   'country': 'ES',\n",
       "   'cross_street': 'C. Alcalá',\n",
       "   'formatted_address': 'Plaza de la Puerta del Sol, 1 (C. Alcalá), 28013 Madrid Madrid',\n",
       "   'locality': 'Madrid',\n",
       "   'postcode': '28013',\n",
       "   'region': 'Madrid'},\n",
       "  'name': 'Apple Puerta del Sol',\n",
       "  'related_places': {},\n",
       "  'timezone': 'Europe/Madrid'},\n",
       " {'fsq_id': '4adcda41f964a520d53e21e3',\n",
       "  'categories': [{'id': 13002,\n",
       "    'name': 'Bakery',\n",
       "    'icon': {'prefix': 'https://ss3.4sqi.net/img/categories_v2/food/bakery_',\n",
       "     'suffix': '.png'}},\n",
       "   {'id': 13040,\n",
       "    'name': 'Dessert Shop',\n",
       "    'icon': {'prefix': 'https://ss3.4sqi.net/img/categories_v2/food/dessert_',\n",
       "     'suffix': '.png'}},\n",
       "   {'id': 13065,\n",
       "    'name': 'Restaurant',\n",
       "    'icon': {'prefix': 'https://ss3.4sqi.net/img/categories_v2/food/default_',\n",
       "     'suffix': '.png'}}],\n",
       "  'chains': [],\n",
       "  'distance': 163,\n",
       "  'geocodes': {'main': {'latitude': 40.416456, 'longitude': -3.700765},\n",
       "   'roof': {'latitude': 40.416456, 'longitude': -3.700765}},\n",
       "  'link': '/v3/places/4adcda41f964a520d53e21e3',\n",
       "  'location': {'address': 'Plaza de Canalejas, 6',\n",
       "   'admin_region': 'Comunidad de Madrid',\n",
       "   'country': 'ES',\n",
       "   'cross_street': 'Carrera de San Jerónimo',\n",
       "   'formatted_address': 'Plaza de Canalejas, 6 (Carrera de San Jerónimo), 28014 Madrid Madrid',\n",
       "   'locality': 'Madrid',\n",
       "   'neighborhood': ['Centro-Sol'],\n",
       "   'postcode': '28014',\n",
       "   'region': 'Madrid'},\n",
       "  'name': 'La Violeta',\n",
       "  'related_places': {},\n",
       "  'timezone': 'Europe/Madrid'},\n",
       " {'fsq_id': '57756e14498e605edcad54fc',\n",
       "  'categories': [{'id': 13009,\n",
       "    'name': 'Cocktail Bar',\n",
       "    'icon': {'prefix': 'https://ss3.4sqi.net/img/categories_v2/nightlife/cocktails_',\n",
       "     'suffix': '.png'}},\n",
       "   {'id': 13057,\n",
       "    'name': 'Gastropub',\n",
       "    'icon': {'prefix': 'https://ss3.4sqi.net/img/categories_v2/food/gastropub_',\n",
       "     'suffix': '.png'}},\n",
       "   {'id': 13347,\n",
       "    'name': 'Tapas Restaurant',\n",
       "    'icon': {'prefix': 'https://ss3.4sqi.net/img/categories_v2/food/tapas_',\n",
       "     'suffix': '.png'}}],\n",
       "  'chains': [],\n",
       "  'distance': 317,\n",
       "  'geocodes': {'main': {'latitude': 40.415, 'longitude': -3.699465},\n",
       "   'roof': {'latitude': 40.415, 'longitude': -3.699465}},\n",
       "  'link': '/v3/places/57756e14498e605edcad54fc',\n",
       "  'location': {'address': 'Calle Echegaray, 21',\n",
       "   'admin_region': 'Comunidad de Madrid',\n",
       "   'country': 'ES',\n",
       "   'cross_street': '',\n",
       "   'formatted_address': 'Calle Echegaray, 21, 28014 Madrid Madrid',\n",
       "   'locality': 'Madrid',\n",
       "   'postcode': '28014',\n",
       "   'region': 'Madrid'},\n",
       "  'name': 'Salmon Guru',\n",
       "  'related_places': {},\n",
       "  'timezone': 'Europe/Madrid'},\n",
       " {'fsq_id': '4f33cbace4b0b5f6dee6d145',\n",
       "  'categories': [{'id': 13065,\n",
       "    'name': 'Restaurant',\n",
       "    'icon': {'prefix': 'https://ss3.4sqi.net/img/categories_v2/food/default_',\n",
       "     'suffix': '.png'}}],\n",
       "  'chains': [],\n",
       "  'distance': 75,\n",
       "  'geocodes': {'main': {'latitude': 40.416603, 'longitude': -3.701775},\n",
       "   'roof': {'latitude': 40.416603, 'longitude': -3.701775}},\n",
       "  'link': '/v3/places/4f33cbace4b0b5f6dee6d145',\n",
       "  'location': {'address': 'Calle de la Victoria, 2',\n",
       "   'address_extended': '(Junto a Puerta del Sol)',\n",
       "   'admin_region': 'Comunidad de Madrid',\n",
       "   'country': 'ES',\n",
       "   'cross_street': 'Carrera de San Jerónimo',\n",
       "   'formatted_address': 'Calle de la Victoria, 2 (Carrera de San Jerónimo), 28012 Madrid Madrid',\n",
       "   'locality': 'Madrid',\n",
       "   'neighborhood': ['Centro (Sol)'],\n",
       "   'postcode': '28012',\n",
       "   'region': 'Madrid'},\n",
       "  'name': 'La Pulpería de Victoria',\n",
       "  'related_places': {},\n",
       "  'timezone': 'Europe/Madrid'},\n",
       " {'fsq_id': '4b7eaa51f964a52008f82fe3',\n",
       "  'categories': [{'id': 13070,\n",
       "    'name': 'Argentinian Restaurant',\n",
       "    'icon': {'prefix': 'https://ss3.4sqi.net/img/categories_v2/food/argentinian_',\n",
       "     'suffix': '.png'}}],\n",
       "  'chains': [],\n",
       "  'distance': 320,\n",
       "  'geocodes': {'main': {'latitude': 40.415685, 'longitude': -3.698793},\n",
       "   'roof': {'latitude': 40.415685, 'longitude': -3.698793}},\n",
       "  'link': '/v3/places/4b7eaa51f964a52008f82fe3',\n",
       "  'location': {'address': 'Ventura de la Vega, 10',\n",
       "   'address_extended': 'Calle Ventura de la Vega 10',\n",
       "   'admin_region': 'Comunidad de Madrid',\n",
       "   'country': 'ES',\n",
       "   'cross_street': 'C. Carrera de San Jerónimo',\n",
       "   'formatted_address': 'Ventura de la Vega, 10 (C. Carrera de San Jerónimo), 28014 Madrid Madrid',\n",
       "   'locality': 'Madrid',\n",
       "   'neighborhood': ['Centro-Cortes'],\n",
       "   'postcode': '28014',\n",
       "   'region': 'Madrid'},\n",
       "  'name': 'La Cabaña Argentina',\n",
       "  'related_places': {},\n",
       "  'timezone': 'Europe/Madrid'},\n",
       " {'fsq_id': '5478dde0498eab68d4d6423f',\n",
       "  'categories': [{'id': 13347,\n",
       "    'name': 'Tapas Restaurant',\n",
       "    'icon': {'prefix': 'https://ss3.4sqi.net/img/categories_v2/food/tapas_',\n",
       "     'suffix': '.png'}}],\n",
       "  'chains': [],\n",
       "  'distance': 81,\n",
       "  'geocodes': {'main': {'latitude': 40.415659, 'longitude': -3.703015},\n",
       "   'roof': {'latitude': 40.415659, 'longitude': -3.703015}},\n",
       "  'link': '/v3/places/5478dde0498eab68d4d6423f',\n",
       "  'location': {'address': 'Calle de Cádiz, 4',\n",
       "   'admin_region': 'Comunidad de Madrid',\n",
       "   'country': 'ES',\n",
       "   'cross_street': '',\n",
       "   'formatted_address': 'Calle de Cádiz, 4, 28012 Madrid Madrid',\n",
       "   'locality': 'Madrid',\n",
       "   'neighborhood': ['Sol'],\n",
       "   'postcode': '28012',\n",
       "   'region': 'Madrid'},\n",
       "  'name': 'Rosi la Loca',\n",
       "  'related_places': {},\n",
       "  'timezone': 'Europe/Madrid'},\n",
       " {'fsq_id': '57442b9e498eb4d238e3bece',\n",
       "  'categories': [{'id': 13302,\n",
       "    'name': 'Mediterranean Restaurant',\n",
       "    'icon': {'prefix': 'https://ss3.4sqi.net/img/categories_v2/food/mediterranean_',\n",
       "     'suffix': '.png'}},\n",
       "   {'id': 13347,\n",
       "    'name': 'Tapas Restaurant',\n",
       "    'icon': {'prefix': 'https://ss3.4sqi.net/img/categories_v2/food/tapas_',\n",
       "     'suffix': '.png'}}],\n",
       "  'chains': [],\n",
       "  'distance': 176,\n",
       "  'geocodes': {'main': {'latitude': 40.415031, 'longitude': -3.701672},\n",
       "   'roof': {'latitude': 40.415031, 'longitude': -3.701672}},\n",
       "  'link': '/v3/places/57442b9e498eb4d238e3bece',\n",
       "  'location': {'address': 'Calle Álvarez Gato, 4',\n",
       "   'admin_region': 'Comunidad de Madrid',\n",
       "   'country': 'ES',\n",
       "   'cross_street': '',\n",
       "   'formatted_address': 'Calle Álvarez Gato, 4, 28012 Madrid Madrid',\n",
       "   'locality': 'Madrid',\n",
       "   'postcode': '28012',\n",
       "   'region': 'Madrid'},\n",
       "  'name': 'InClan Brutal Bar',\n",
       "  'related_places': {},\n",
       "  'timezone': 'Europe/Madrid'},\n",
       " {'fsq_id': '5431272e498e8e357f694549',\n",
       "  'categories': [{'id': 11073,\n",
       "    'name': 'Spa',\n",
       "    'icon': {'prefix': 'https://ss3.4sqi.net/img/categories_v2/shops/spa_',\n",
       "     'suffix': '.png'}}],\n",
       "  'chains': [],\n",
       "  'distance': 339,\n",
       "  'geocodes': {'main': {'latitude': 40.418878, 'longitude': -3.70472},\n",
       "   'roof': {'latitude': 40.418878, 'longitude': -3.70472}},\n",
       "  'link': '/v3/places/5431272e498e8e357f694549',\n",
       "  'location': {'address': 'Calle del Carmen, 24',\n",
       "   'admin_region': 'Comunidad de Madrid',\n",
       "   'country': 'ES',\n",
       "   'cross_street': '',\n",
       "   'formatted_address': 'Calle del Carmen, 24, 28013 Madrid Madrid',\n",
       "   'locality': 'Madrid',\n",
       "   'postcode': '28013',\n",
       "   'region': 'Madrid'},\n",
       "  'name': 'Lush Spa Madrid',\n",
       "  'related_places': {},\n",
       "  'timezone': 'Europe/Madrid'},\n",
       " {'fsq_id': '5815186538faca7f0db08a89',\n",
       "  'categories': [{'id': 13065,\n",
       "    'name': 'Restaurant',\n",
       "    'icon': {'prefix': 'https://ss3.4sqi.net/img/categories_v2/food/default_',\n",
       "     'suffix': '.png'}}],\n",
       "  'chains': [],\n",
       "  'distance': 504,\n",
       "  'geocodes': {'main': {'latitude': 40.419136, 'longitude': -3.698104},\n",
       "   'roof': {'latitude': 40.419136, 'longitude': -3.698104}},\n",
       "  'link': '/v3/places/5815186538faca7f0db08a89',\n",
       "  'location': {'address': 'Calle Gran Vía, 1',\n",
       "   'admin_region': 'Comunidad de Madrid',\n",
       "   'country': 'ES',\n",
       "   'cross_street': '',\n",
       "   'formatted_address': 'Calle Gran Vía, 1, 28013 Madrid Madrid',\n",
       "   'locality': 'Madrid',\n",
       "   'postcode': '28013',\n",
       "   'region': 'Madrid'},\n",
       "  'name': 'La Primera',\n",
       "  'related_places': {},\n",
       "  'timezone': 'Europe/Madrid'},\n",
       " {'fsq_id': '4adcda37f964a520193c21e3',\n",
       "  'categories': [{'id': 16041,\n",
       "    'name': 'Plaza',\n",
       "    'icon': {'prefix': 'https://ss3.4sqi.net/img/categories_v2/parks_outdoors/plaza_',\n",
       "     'suffix': '.png'}}],\n",
       "  'chains': [],\n",
       "  'distance': 422,\n",
       "  'geocodes': {'main': {'latitude': 40.415046, 'longitude': -3.707215}},\n",
       "  'link': '/v3/places/4adcda37f964a520193c21e3',\n",
       "  'location': {'address': 'Plaza Mayor en, 1619',\n",
       "   'admin_region': 'Comunidad de Madrid',\n",
       "   'country': 'ES',\n",
       "   'formatted_address': 'Plaza Mayor en, 1619, 28012 Madrid Madrid',\n",
       "   'locality': 'Madrid',\n",
       "   'postcode': '28012',\n",
       "   'region': 'Madrid'},\n",
       "  'name': 'Plaza Mayor',\n",
       "  'related_places': {'children': [{'name': 'Pizza Hut'},\n",
       "    {'name': 'Bar Cineo'},\n",
       "    {'name': 'Mercado de Navidad'},\n",
       "    {'name': 'Calle De La Sal'},\n",
       "    {'name': 'Calle De La Sal'},\n",
       "    {'fsq_id': '5c77b10433e118002c284e5a', 'name': 'Arrabal'},\n",
       "    {'name': 'Feria de Editoriales y Librerías de Madrid'},\n",
       "    {'fsq_id': '5cdeaded666116002cb1bf3e',\n",
       "     'name': 'Pestana Plaza Mayor Madrid'},\n",
       "    {'name': 'Cancun'}]},\n",
       "  'timezone': 'Europe/Madrid'}]"
      ]
     },
     "execution_count": 26,
     "metadata": {},
     "output_type": "execute_result"
    }
   ],
   "source": [
    "response['results']"
   ]
  },
  {
   "cell_type": "code",
   "execution_count": 32,
   "id": "269f9417",
   "metadata": {},
   "outputs": [
    {
     "data": {
      "text/plain": [
       "'Computers and Electronics Retail'"
      ]
     },
     "execution_count": 32,
     "metadata": {},
     "output_type": "execute_result"
    }
   ],
   "source": [
    "response['results'][0]['categories'][0]['name']"
   ]
  },
  {
   "cell_type": "code",
   "execution_count": 37,
   "id": "7cd1c498",
   "metadata": {},
   "outputs": [
    {
     "data": {
      "text/plain": [
       "53"
      ]
     },
     "execution_count": 37,
     "metadata": {},
     "output_type": "execute_result"
    }
   ],
   "source": [
    "response['results'][0]['distance']"
   ]
  },
  {
   "cell_type": "code",
   "execution_count": 40,
   "id": "411568a6",
   "metadata": {},
   "outputs": [
    {
     "data": {
      "text/plain": [
       "{'latitude': 40.416833, 'longitude': -3.702214}"
      ]
     },
     "execution_count": 40,
     "metadata": {},
     "output_type": "execute_result"
    }
   ],
   "source": [
    "response['results'][0]['geocodes']['roof']"
   ]
  },
  {
   "cell_type": "code",
   "execution_count": 36,
   "id": "cf96b582",
   "metadata": {},
   "outputs": [
    {
     "data": {
      "text/plain": [
       "40.416833"
      ]
     },
     "execution_count": 36,
     "metadata": {},
     "output_type": "execute_result"
    }
   ],
   "source": [
    "response['results'][0]['geocodes'][\"main\"][\"latitude\"]"
   ]
  },
  {
   "cell_type": "code",
   "execution_count": 42,
   "id": "8fb4699a",
   "metadata": {},
   "outputs": [
    {
     "data": {
      "text/plain": [
       "'/v3/places/538a4c78498e264f18c776b2'"
      ]
     },
     "execution_count": 42,
     "metadata": {},
     "output_type": "execute_result"
    }
   ],
   "source": [
    "response['results'][0]['link']"
   ]
  },
  {
   "cell_type": "code",
   "execution_count": null,
   "id": "25c797dd",
   "metadata": {},
   "outputs": [],
   "source": []
  }
 ],
 "metadata": {
  "kernelspec": {
   "display_name": "Python 3 (ipykernel)",
   "language": "python",
   "name": "python3"
  },
  "language_info": {
   "codemirror_mode": {
    "name": "ipython",
    "version": 3
   },
   "file_extension": ".py",
   "mimetype": "text/x-python",
   "name": "python",
   "nbconvert_exporter": "python",
   "pygments_lexer": "ipython3",
   "version": "3.9.7"
  }
 },
 "nbformat": 4,
 "nbformat_minor": 5
}
